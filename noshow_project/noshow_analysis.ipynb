{
 "cells": [
  {
   "cell_type": "markdown",
   "metadata": {},
   "source": [
    "\n",
    "\n",
    "# Projet: Analyser un ensemble de données sur des rendez-vous médicaux pour prédire au mieux les absences potentielles \n",
    "\n",
    "## Sommaire\n",
    "<ul>\n",
    "<li><a href=\"#intro\">Introduction</a></li>\n",
    "<li><a href=\"#wrangling\">Data Wrangling</a></li>\n",
    "<li><a href=\"#eda\">Exploratory Data Analysis</a></li>\n",
    "<li><a href=\"#conclusions\">Conclusions</a></li>\n",
    "</ul>"
   ]
  },
  {
   "cell_type": "markdown",
   "metadata": {},
   "source": [
    "## <a id='intro'></a>\n",
    "## Introduction\n",
    "\n",
    "### Le dataset :\n",
    "\n",
    "Il s'agit de données collectées durant l'année 2016 au Brésil sur environs 100 mille rendez-vous médicaux, avec des informations sur les patients (notamment leur age, sexe, maladies chroniques, et si ou non ils étaient présents pour leur rendez-vous). Le but de cette analyse est d'abord de comprendre s'il y a une quelconque corrélation entre les caractéristiques enregistrées pour savoir quand un rendez-vous a une forte probabilité d'avoir lieu --pour mieux prédire les absences.\n",
    "\n",
    "### Les caractéristiques :\n",
    "\n",
    "- PatientId : identifiant du patient\n",
    "- AppointmentID : identifiant du rendez-vous\n",
    "- Gender : sexe du patient\n",
    "- ScheduledDay : la date et heure auquels le patient a pris le rendez-vous\n",
    "- AppointmentDay : la date du rendez-vous médical\n",
    "- Age \n",
    "- Neighbourhood : région de l'hopital\n",
    "- Scholarship : si oui (1) ou non (0) le patient fait partie du programme Bolsa Familia de sécurité sociale\n",
    "- Hipertension : si le patient est hypertendu (1=hypertendu, 0=non)\n",
    "- Diabetes : si le patient est diabétique (1=diabetique, 0=non)\n",
    "- Alcoholism : si le patient est alcoolique (1=alcoolique, 0=non)\n",
    "- Handcap : le nombre d'handicaps dont souffre le patient\n",
    "- SMS_received : si le patient a reçu des messages de rappels du rendez-vous (0=aucun rappel, 1=au moins 1 rappel par sms)\n",
    "- No-show : si le patient a été présent pour le rendez-vous (Yes=absent, No=présent)\n",
    "\n",
    "### Questions à explorer :\n",
    "\n",
    "\n",
    "- Est-ce que les patients absents pour leur rendez-vous ont reçu un rappel ?\n",
    "- Est-ce que la durée entre la prise de rendez-vous et le rendez-vous favorise l'absence quand elle est longue ?\n",
    "- Est-ce que certaines maladies caractéristiques sont plus communes chez les patients absents ?\n",
    "- Est-ce que il y a une tranche d'age qui s'est absentée le plus à ses rendez-vous médical ?\n",
    "- Est-ce que les absences sont plus fréquentes chez un sexe particulier ?\n",
    "- Est-ce que les bénéficiaires du programme Bolsa Familia s'absentent plus ou moins que les non-bénéficiaires ?"
   ]
  },
  {
   "cell_type": "code",
   "execution_count": 82,
   "metadata": {},
   "outputs": [],
   "source": [
    "import pandas as pd\n",
    "import datetime as dt\n",
    "import numpy as np\n",
    "import matplotlib.pyplot as plt\n",
    "%matplotlib inline\n",
    "import seaborn as sns\n",
    "sns.set_style('darkgrid')\n"
   ]
  },
  {
   "cell_type": "markdown",
   "metadata": {},
   "source": [
    "<a id='wrangling'></a>\n",
    "## Data Wrangling\n",
    "\n",
    "\n",
    "### General Properties"
   ]
  },
  {
   "cell_type": "code",
   "execution_count": 83,
   "metadata": {},
   "outputs": [
    {
     "data": {
      "text/html": [
       "<div>\n",
       "<style scoped>\n",
       "    .dataframe tbody tr th:only-of-type {\n",
       "        vertical-align: middle;\n",
       "    }\n",
       "\n",
       "    .dataframe tbody tr th {\n",
       "        vertical-align: top;\n",
       "    }\n",
       "\n",
       "    .dataframe thead th {\n",
       "        text-align: right;\n",
       "    }\n",
       "</style>\n",
       "<table border=\"1\" class=\"dataframe\">\n",
       "  <thead>\n",
       "    <tr style=\"text-align: right;\">\n",
       "      <th></th>\n",
       "      <th>PatientId</th>\n",
       "      <th>AppointmentID</th>\n",
       "      <th>Gender</th>\n",
       "      <th>ScheduledDay</th>\n",
       "      <th>AppointmentDay</th>\n",
       "      <th>Age</th>\n",
       "      <th>Neighbourhood</th>\n",
       "      <th>Scholarship</th>\n",
       "      <th>Hipertension</th>\n",
       "      <th>Diabetes</th>\n",
       "      <th>Alcoholism</th>\n",
       "      <th>Handcap</th>\n",
       "      <th>SMS_received</th>\n",
       "      <th>No-show</th>\n",
       "    </tr>\n",
       "  </thead>\n",
       "  <tbody>\n",
       "    <tr>\n",
       "      <th>0</th>\n",
       "      <td>2.987250e+13</td>\n",
       "      <td>5642903</td>\n",
       "      <td>F</td>\n",
       "      <td>2016-04-29T18:38:08Z</td>\n",
       "      <td>2016-04-29T00:00:00Z</td>\n",
       "      <td>62</td>\n",
       "      <td>JARDIM DA PENHA</td>\n",
       "      <td>0</td>\n",
       "      <td>1</td>\n",
       "      <td>0</td>\n",
       "      <td>0</td>\n",
       "      <td>0</td>\n",
       "      <td>0</td>\n",
       "      <td>No</td>\n",
       "    </tr>\n",
       "    <tr>\n",
       "      <th>1</th>\n",
       "      <td>5.589978e+14</td>\n",
       "      <td>5642503</td>\n",
       "      <td>M</td>\n",
       "      <td>2016-04-29T16:08:27Z</td>\n",
       "      <td>2016-04-29T00:00:00Z</td>\n",
       "      <td>56</td>\n",
       "      <td>JARDIM DA PENHA</td>\n",
       "      <td>0</td>\n",
       "      <td>0</td>\n",
       "      <td>0</td>\n",
       "      <td>0</td>\n",
       "      <td>0</td>\n",
       "      <td>0</td>\n",
       "      <td>No</td>\n",
       "    </tr>\n",
       "    <tr>\n",
       "      <th>2</th>\n",
       "      <td>4.262962e+12</td>\n",
       "      <td>5642549</td>\n",
       "      <td>F</td>\n",
       "      <td>2016-04-29T16:19:04Z</td>\n",
       "      <td>2016-04-29T00:00:00Z</td>\n",
       "      <td>62</td>\n",
       "      <td>MATA DA PRAIA</td>\n",
       "      <td>0</td>\n",
       "      <td>0</td>\n",
       "      <td>0</td>\n",
       "      <td>0</td>\n",
       "      <td>0</td>\n",
       "      <td>0</td>\n",
       "      <td>No</td>\n",
       "    </tr>\n",
       "    <tr>\n",
       "      <th>3</th>\n",
       "      <td>8.679512e+11</td>\n",
       "      <td>5642828</td>\n",
       "      <td>F</td>\n",
       "      <td>2016-04-29T17:29:31Z</td>\n",
       "      <td>2016-04-29T00:00:00Z</td>\n",
       "      <td>8</td>\n",
       "      <td>PONTAL DE CAMBURI</td>\n",
       "      <td>0</td>\n",
       "      <td>0</td>\n",
       "      <td>0</td>\n",
       "      <td>0</td>\n",
       "      <td>0</td>\n",
       "      <td>0</td>\n",
       "      <td>No</td>\n",
       "    </tr>\n",
       "    <tr>\n",
       "      <th>4</th>\n",
       "      <td>8.841186e+12</td>\n",
       "      <td>5642494</td>\n",
       "      <td>F</td>\n",
       "      <td>2016-04-29T16:07:23Z</td>\n",
       "      <td>2016-04-29T00:00:00Z</td>\n",
       "      <td>56</td>\n",
       "      <td>JARDIM DA PENHA</td>\n",
       "      <td>0</td>\n",
       "      <td>1</td>\n",
       "      <td>1</td>\n",
       "      <td>0</td>\n",
       "      <td>0</td>\n",
       "      <td>0</td>\n",
       "      <td>No</td>\n",
       "    </tr>\n",
       "  </tbody>\n",
       "</table>\n",
       "</div>"
      ],
      "text/plain": [
       "      PatientId  AppointmentID Gender          ScheduledDay  \\\n",
       "0  2.987250e+13        5642903      F  2016-04-29T18:38:08Z   \n",
       "1  5.589978e+14        5642503      M  2016-04-29T16:08:27Z   \n",
       "2  4.262962e+12        5642549      F  2016-04-29T16:19:04Z   \n",
       "3  8.679512e+11        5642828      F  2016-04-29T17:29:31Z   \n",
       "4  8.841186e+12        5642494      F  2016-04-29T16:07:23Z   \n",
       "\n",
       "         AppointmentDay  Age      Neighbourhood  Scholarship  Hipertension  \\\n",
       "0  2016-04-29T00:00:00Z   62    JARDIM DA PENHA            0             1   \n",
       "1  2016-04-29T00:00:00Z   56    JARDIM DA PENHA            0             0   \n",
       "2  2016-04-29T00:00:00Z   62      MATA DA PRAIA            0             0   \n",
       "3  2016-04-29T00:00:00Z    8  PONTAL DE CAMBURI            0             0   \n",
       "4  2016-04-29T00:00:00Z   56    JARDIM DA PENHA            0             1   \n",
       "\n",
       "   Diabetes  Alcoholism  Handcap  SMS_received No-show  \n",
       "0         0           0        0             0      No  \n",
       "1         0           0        0             0      No  \n",
       "2         0           0        0             0      No  \n",
       "3         0           0        0             0      No  \n",
       "4         1           0        0             0      No  "
      ]
     },
     "execution_count": 83,
     "metadata": {},
     "output_type": "execute_result"
    }
   ],
   "source": [
    "# charger les données et en afficher quelques lignes\n",
    "df=pd.read_csv('noshowappointments-kagglev2-may-2016.csv')\n",
    "df.head()"
   ]
  },
  {
   "cell_type": "code",
   "execution_count": 84,
   "metadata": {},
   "outputs": [
    {
     "data": {
      "text/plain": [
       "(110527, 14)"
      ]
     },
     "execution_count": 84,
     "metadata": {},
     "output_type": "execute_result"
    }
   ],
   "source": [
    "df.shape"
   ]
  },
  {
   "cell_type": "markdown",
   "metadata": {},
   "source": [
    "* Les noms des colonnes ne se prêtent pas facilement ni à la mémoire ni à l'usage."
   ]
  },
  {
   "cell_type": "markdown",
   "metadata": {},
   "source": [
    "* Je m'assure que les valeurs des colonnes Scholarship, Hipertension, Diabetes, Alcoholism, Handcap, SMS_received et No-show sont correctes :"
   ]
  },
  {
   "cell_type": "code",
   "execution_count": 85,
   "metadata": {},
   "outputs": [
    {
     "data": {
      "text/plain": [
       "(array([0, 1]),\n",
       " array([1, 0]),\n",
       " array([0, 1]),\n",
       " array([0, 1]),\n",
       " array([0, 1, 2, 3, 4]),\n",
       " array([0, 1]),\n",
       " array(['No', 'Yes'], dtype=object))"
      ]
     },
     "execution_count": 85,
     "metadata": {},
     "output_type": "execute_result"
    }
   ],
   "source": [
    "df['Scholarship'].unique(), df['Hipertension'].unique(), df['Diabetes'].unique(), df['Alcoholism'].unique(), df['Handcap'].unique(), df['SMS_received'].unique(), df['No-show'].unique()"
   ]
  },
  {
   "cell_type": "markdown",
   "metadata": {},
   "source": [
    "### Je vérifie les types de données des colonnes"
   ]
  },
  {
   "cell_type": "code",
   "execution_count": 86,
   "metadata": {},
   "outputs": [
    {
     "data": {
      "text/plain": [
       "PatientId         float64\n",
       "AppointmentID       int64\n",
       "Gender             object\n",
       "ScheduledDay       object\n",
       "AppointmentDay     object\n",
       "Age                 int64\n",
       "Neighbourhood      object\n",
       "Scholarship         int64\n",
       "Hipertension        int64\n",
       "Diabetes            int64\n",
       "Alcoholism          int64\n",
       "Handcap             int64\n",
       "SMS_received        int64\n",
       "No-show            object\n",
       "dtype: object"
      ]
     },
     "execution_count": 86,
     "metadata": {},
     "output_type": "execute_result"
    }
   ],
   "source": [
    "df.dtypes"
   ]
  },
  {
   "cell_type": "markdown",
   "metadata": {},
   "source": [
    "* Je constate aussi que des les colonnes des dates/heures ne sont pas en mode datetime. Je dois y remédier tout de suite puisque j'envisage d'évaluer s'ils contiennent des données aberrantes."
   ]
  },
  {
   "cell_type": "code",
   "execution_count": 87,
   "metadata": {},
   "outputs": [
    {
     "data": {
      "text/plain": [
       "PatientId                     float64\n",
       "AppointmentID                   int64\n",
       "Gender                         object\n",
       "ScheduledDay      datetime64[ns, UTC]\n",
       "AppointmentDay    datetime64[ns, UTC]\n",
       "Age                             int64\n",
       "Neighbourhood                  object\n",
       "Scholarship                     int64\n",
       "Hipertension                    int64\n",
       "Diabetes                        int64\n",
       "Alcoholism                      int64\n",
       "Handcap                         int64\n",
       "SMS_received                    int64\n",
       "No-show                        object\n",
       "dtype: object"
      ]
     },
     "execution_count": 87,
     "metadata": {},
     "output_type": "execute_result"
    }
   ],
   "source": [
    "df['ScheduledDay']=pd.to_datetime(df['ScheduledDay'])\n",
    "df['AppointmentDay']=pd.to_datetime(df['AppointmentDay'])\n",
    "df.dtypes"
   ]
  },
  {
   "cell_type": "markdown",
   "metadata": {},
   "source": [
    "### Y a-t-il des données manquantes ?"
   ]
  },
  {
   "cell_type": "code",
   "execution_count": 88,
   "metadata": {},
   "outputs": [
    {
     "data": {
      "text/plain": [
       "PatientId         0\n",
       "AppointmentID     0\n",
       "Gender            0\n",
       "ScheduledDay      0\n",
       "AppointmentDay    0\n",
       "Age               0\n",
       "Neighbourhood     0\n",
       "Scholarship       0\n",
       "Hipertension      0\n",
       "Diabetes          0\n",
       "Alcoholism        0\n",
       "Handcap           0\n",
       "SMS_received      0\n",
       "No-show           0\n",
       "dtype: int64"
      ]
     },
     "execution_count": 88,
     "metadata": {},
     "output_type": "execute_result"
    }
   ],
   "source": [
    "df.isnull().sum()"
   ]
  },
  {
   "cell_type": "markdown",
   "metadata": {},
   "source": [
    "### Y a-t-il des lignes dupliquées ?"
   ]
  },
  {
   "cell_type": "code",
   "execution_count": 89,
   "metadata": {},
   "outputs": [
    {
     "data": {
      "text/plain": [
       "0"
      ]
     },
     "execution_count": 89,
     "metadata": {},
     "output_type": "execute_result"
    }
   ],
   "source": [
    "df.duplicated().sum()"
   ]
  },
  {
   "cell_type": "markdown",
   "metadata": {},
   "source": [
    "### Y a-t-il des données aberrantes ?"
   ]
  },
  {
   "cell_type": "code",
   "execution_count": 90,
   "metadata": {},
   "outputs": [
    {
     "data": {
      "text/html": [
       "<div>\n",
       "<style scoped>\n",
       "    .dataframe tbody tr th:only-of-type {\n",
       "        vertical-align: middle;\n",
       "    }\n",
       "\n",
       "    .dataframe tbody tr th {\n",
       "        vertical-align: top;\n",
       "    }\n",
       "\n",
       "    .dataframe thead th {\n",
       "        text-align: right;\n",
       "    }\n",
       "</style>\n",
       "<table border=\"1\" class=\"dataframe\">\n",
       "  <thead>\n",
       "    <tr style=\"text-align: right;\">\n",
       "      <th></th>\n",
       "      <th>PatientId</th>\n",
       "      <th>AppointmentID</th>\n",
       "      <th>Age</th>\n",
       "      <th>Scholarship</th>\n",
       "      <th>Hipertension</th>\n",
       "      <th>Diabetes</th>\n",
       "      <th>Alcoholism</th>\n",
       "      <th>Handcap</th>\n",
       "      <th>SMS_received</th>\n",
       "    </tr>\n",
       "  </thead>\n",
       "  <tbody>\n",
       "    <tr>\n",
       "      <th>count</th>\n",
       "      <td>1.105270e+05</td>\n",
       "      <td>1.105270e+05</td>\n",
       "      <td>110527.000000</td>\n",
       "      <td>110527.000000</td>\n",
       "      <td>110527.000000</td>\n",
       "      <td>110527.000000</td>\n",
       "      <td>110527.000000</td>\n",
       "      <td>110527.000000</td>\n",
       "      <td>110527.000000</td>\n",
       "    </tr>\n",
       "    <tr>\n",
       "      <th>mean</th>\n",
       "      <td>1.474963e+14</td>\n",
       "      <td>5.675305e+06</td>\n",
       "      <td>37.088874</td>\n",
       "      <td>0.098266</td>\n",
       "      <td>0.197246</td>\n",
       "      <td>0.071865</td>\n",
       "      <td>0.030400</td>\n",
       "      <td>0.022248</td>\n",
       "      <td>0.321026</td>\n",
       "    </tr>\n",
       "    <tr>\n",
       "      <th>std</th>\n",
       "      <td>2.560949e+14</td>\n",
       "      <td>7.129575e+04</td>\n",
       "      <td>23.110205</td>\n",
       "      <td>0.297675</td>\n",
       "      <td>0.397921</td>\n",
       "      <td>0.258265</td>\n",
       "      <td>0.171686</td>\n",
       "      <td>0.161543</td>\n",
       "      <td>0.466873</td>\n",
       "    </tr>\n",
       "    <tr>\n",
       "      <th>min</th>\n",
       "      <td>3.921784e+04</td>\n",
       "      <td>5.030230e+06</td>\n",
       "      <td>-1.000000</td>\n",
       "      <td>0.000000</td>\n",
       "      <td>0.000000</td>\n",
       "      <td>0.000000</td>\n",
       "      <td>0.000000</td>\n",
       "      <td>0.000000</td>\n",
       "      <td>0.000000</td>\n",
       "    </tr>\n",
       "    <tr>\n",
       "      <th>25%</th>\n",
       "      <td>4.172614e+12</td>\n",
       "      <td>5.640286e+06</td>\n",
       "      <td>18.000000</td>\n",
       "      <td>0.000000</td>\n",
       "      <td>0.000000</td>\n",
       "      <td>0.000000</td>\n",
       "      <td>0.000000</td>\n",
       "      <td>0.000000</td>\n",
       "      <td>0.000000</td>\n",
       "    </tr>\n",
       "    <tr>\n",
       "      <th>50%</th>\n",
       "      <td>3.173184e+13</td>\n",
       "      <td>5.680573e+06</td>\n",
       "      <td>37.000000</td>\n",
       "      <td>0.000000</td>\n",
       "      <td>0.000000</td>\n",
       "      <td>0.000000</td>\n",
       "      <td>0.000000</td>\n",
       "      <td>0.000000</td>\n",
       "      <td>0.000000</td>\n",
       "    </tr>\n",
       "    <tr>\n",
       "      <th>75%</th>\n",
       "      <td>9.439172e+13</td>\n",
       "      <td>5.725524e+06</td>\n",
       "      <td>55.000000</td>\n",
       "      <td>0.000000</td>\n",
       "      <td>0.000000</td>\n",
       "      <td>0.000000</td>\n",
       "      <td>0.000000</td>\n",
       "      <td>0.000000</td>\n",
       "      <td>1.000000</td>\n",
       "    </tr>\n",
       "    <tr>\n",
       "      <th>max</th>\n",
       "      <td>9.999816e+14</td>\n",
       "      <td>5.790484e+06</td>\n",
       "      <td>115.000000</td>\n",
       "      <td>1.000000</td>\n",
       "      <td>1.000000</td>\n",
       "      <td>1.000000</td>\n",
       "      <td>1.000000</td>\n",
       "      <td>4.000000</td>\n",
       "      <td>1.000000</td>\n",
       "    </tr>\n",
       "  </tbody>\n",
       "</table>\n",
       "</div>"
      ],
      "text/plain": [
       "          PatientId  AppointmentID            Age    Scholarship  \\\n",
       "count  1.105270e+05   1.105270e+05  110527.000000  110527.000000   \n",
       "mean   1.474963e+14   5.675305e+06      37.088874       0.098266   \n",
       "std    2.560949e+14   7.129575e+04      23.110205       0.297675   \n",
       "min    3.921784e+04   5.030230e+06      -1.000000       0.000000   \n",
       "25%    4.172614e+12   5.640286e+06      18.000000       0.000000   \n",
       "50%    3.173184e+13   5.680573e+06      37.000000       0.000000   \n",
       "75%    9.439172e+13   5.725524e+06      55.000000       0.000000   \n",
       "max    9.999816e+14   5.790484e+06     115.000000       1.000000   \n",
       "\n",
       "        Hipertension       Diabetes     Alcoholism        Handcap  \\\n",
       "count  110527.000000  110527.000000  110527.000000  110527.000000   \n",
       "mean        0.197246       0.071865       0.030400       0.022248   \n",
       "std         0.397921       0.258265       0.171686       0.161543   \n",
       "min         0.000000       0.000000       0.000000       0.000000   \n",
       "25%         0.000000       0.000000       0.000000       0.000000   \n",
       "50%         0.000000       0.000000       0.000000       0.000000   \n",
       "75%         0.000000       0.000000       0.000000       0.000000   \n",
       "max         1.000000       1.000000       1.000000       4.000000   \n",
       "\n",
       "        SMS_received  \n",
       "count  110527.000000  \n",
       "mean        0.321026  \n",
       "std         0.466873  \n",
       "min         0.000000  \n",
       "25%         0.000000  \n",
       "50%         0.000000  \n",
       "75%         1.000000  \n",
       "max         1.000000  "
      ]
     },
     "execution_count": 90,
     "metadata": {},
     "output_type": "execute_result"
    }
   ],
   "source": [
    "df.describe()"
   ]
  },
  {
   "cell_type": "markdown",
   "metadata": {},
   "source": [
    "* Il est clair que la colonne Age contient des données insensées (des valeurs moins de 0 et d'autres plus de 100)\n",
    "* Pour gérer ce probleme, je voudrais savoir combien y a-t-il de ces cas aberrants pour pouvoir décider quoi faire avec."
   ]
  },
  {
   "cell_type": "code",
   "execution_count": 91,
   "metadata": {},
   "outputs": [
    {
     "data": {
      "text/plain": [
       "(71, 14)"
      ]
     },
     "execution_count": 91,
     "metadata": {},
     "output_type": "execute_result"
    }
   ],
   "source": [
    "df.query('Age <0 or Age >=95').shape"
   ]
  },
  {
   "cell_type": "markdown",
   "metadata": {},
   "source": [
    "* Je suis maintenant curieux de voir s'il y a des ages de 0 et de combien"
   ]
  },
  {
   "cell_type": "code",
   "execution_count": 92,
   "metadata": {},
   "outputs": [
    {
     "data": {
      "text/plain": [
       "(3539, 14)"
      ]
     },
     "execution_count": 92,
     "metadata": {},
     "output_type": "execute_result"
    }
   ],
   "source": [
    "df.query('Age==0').shape"
   ]
  },
  {
   "cell_type": "markdown",
   "metadata": {},
   "source": [
    "* Le nombre d'individus déclarés agés de <0 ou >=95 ans est insignifiants par rapport au volume de données, je peux donc me permettre de les supprimer sans que cela n'affecte la valeur de mon échantillon.\n",
    "* Cependant, pour les âges de 0 ans il est à noter que le type de cette colonne est entier. Il est raisonnable de supposer alors qu'il s'agit de bébés avec leurs âges arrondis à l'unité. Je décide de garder ces données."
   ]
  },
  {
   "cell_type": "markdown",
   "metadata": {},
   "source": [
    "* Y a-t-il des rendez-vous (du même individu) qui ont été enregistré plus qu'une fois ?"
   ]
  },
  {
   "cell_type": "code",
   "execution_count": 93,
   "metadata": {},
   "outputs": [
    {
     "data": {
      "text/plain": [
       "1334"
      ]
     },
     "execution_count": 93,
     "metadata": {},
     "output_type": "execute_result"
    }
   ],
   "source": [
    "df.duplicated(subset=['PatientId','Gender','Age','ScheduledDay','AppointmentDay']).sum()"
   ]
  },
  {
   "cell_type": "markdown",
   "metadata": {},
   "source": [
    "* Y a-t-il des prises de rendez-vous qui ont eu lieu après le rendez-vous médical ?"
   ]
  },
  {
   "cell_type": "code",
   "execution_count": 94,
   "metadata": {},
   "outputs": [
    {
     "data": {
      "text/plain": [
       "5"
      ]
     },
     "execution_count": 94,
     "metadata": {},
     "output_type": "execute_result"
    }
   ],
   "source": [
    "(df['AppointmentDay'].dt.date < df['ScheduledDay'].dt.date).sum()"
   ]
  },
  {
   "cell_type": "markdown",
   "metadata": {},
   "source": [
    "### Data Cleaning"
   ]
  },
  {
   "cell_type": "markdown",
   "metadata": {},
   "source": [
    "Aprés exploration des données, je constate le suivant :\n",
    "   - Les noms des colonnes ne se prêtent pas facilement ni à la mémoire ni à l'usage.\n",
    "   - Les colonnes Scholarship, Hipertension, Diabetes, Alcoholism, Handcap et enfin SMS_received ont des valeurs binaires pas immediatement interpretables.\n",
    "   - La colonne PatientId est de type float alors que celle de AppointmentID est de type entier.\n",
    "   - Il n'y a pas de données manquantes ni des lignes entièrement dupliquées mais il y a quelques redondances au niveau des rendez-vous pris (rendez-vous enregistré plus qu'une fois).\n",
    "   - Il y a des âges qui sont moins de 0 ou plus de 95 ans.\n",
    "   - Il y a des prises de rendez-vous qui sont datées aprés le rendez-vous médical.\n",
    "\n",
    "Pour y remédier, je procederai à faire le suivant :\n",
    "   - Convertir tous les noms des colonnes en de noms miniscules, plus mémorables selon :\n",
    "       * PatientId = id_patient\n",
    "       * AppointmentID = id_rdv\n",
    "       * Gender = sexe\n",
    "       * ScheduledDay = prise_de_rdv\n",
    "       * AppointmentDay = rdv\n",
    "       * Scholarship = bolsa_familia\n",
    "       * Hipertension = hypertendu\n",
    "       * Diabetes = diabetique\n",
    "       * Alcoholism = alcoolique\n",
    "       * Handcap = handicaps_nbr\n",
    "       * SMS_received = rappel_sms\n",
    "       * No-show = absent\n",
    "   - Convertir les valeurs binaires des colonnes (Scholarship, Hipertension, Diabetes, Alcoholism et enfin SMS_received) ainsi que la colonne no-show en de simples 'oui' et 'non'. Convertir le type de données de ces colonnes pour correspondre aux nouvelles valeurs.\n",
    "   - Convertir la colonne PatientId en type entier.\n",
    "   - Supprimer les redondances (rendez-vous enregistrés plus qu'une fois).\n",
    "   - Supprimer les données aberrantes :\n",
    "       * les âges moins de 0 ans et plus ou égal à 95 ans.\n",
    "       * les prises de rendez-vous qui datent d'après le rendez-vous en soi.\n",
    "   - Supprimer la colonne AppointmentID (id_rdv) qui sera superflu une fois les rendez-vous redondants sont supprimés."
   ]
  },
  {
   "cell_type": "markdown",
   "metadata": {},
   "source": [
    "### Convertir tous les noms des colonnes :"
   ]
  },
  {
   "cell_type": "code",
   "execution_count": 95,
   "metadata": {},
   "outputs": [
    {
     "data": {
      "text/html": [
       "<div>\n",
       "<style scoped>\n",
       "    .dataframe tbody tr th:only-of-type {\n",
       "        vertical-align: middle;\n",
       "    }\n",
       "\n",
       "    .dataframe tbody tr th {\n",
       "        vertical-align: top;\n",
       "    }\n",
       "\n",
       "    .dataframe thead th {\n",
       "        text-align: right;\n",
       "    }\n",
       "</style>\n",
       "<table border=\"1\" class=\"dataframe\">\n",
       "  <thead>\n",
       "    <tr style=\"text-align: right;\">\n",
       "      <th></th>\n",
       "      <th>id_patient</th>\n",
       "      <th>id_rdv</th>\n",
       "      <th>sexe</th>\n",
       "      <th>prise_de_rdv</th>\n",
       "      <th>rdv</th>\n",
       "      <th>age</th>\n",
       "      <th>region_hopital</th>\n",
       "      <th>bolsa_familia</th>\n",
       "      <th>hypertendu</th>\n",
       "      <th>diabetique</th>\n",
       "      <th>alcoolique</th>\n",
       "      <th>handicaps_nbr</th>\n",
       "      <th>rappel_sms</th>\n",
       "      <th>absent</th>\n",
       "    </tr>\n",
       "  </thead>\n",
       "  <tbody>\n",
       "    <tr>\n",
       "      <th>0</th>\n",
       "      <td>2.987250e+13</td>\n",
       "      <td>5642903</td>\n",
       "      <td>F</td>\n",
       "      <td>2016-04-29 18:38:08+00:00</td>\n",
       "      <td>2016-04-29 00:00:00+00:00</td>\n",
       "      <td>62</td>\n",
       "      <td>JARDIM DA PENHA</td>\n",
       "      <td>0</td>\n",
       "      <td>1</td>\n",
       "      <td>0</td>\n",
       "      <td>0</td>\n",
       "      <td>0</td>\n",
       "      <td>0</td>\n",
       "      <td>No</td>\n",
       "    </tr>\n",
       "  </tbody>\n",
       "</table>\n",
       "</div>"
      ],
      "text/plain": [
       "     id_patient   id_rdv sexe              prise_de_rdv  \\\n",
       "0  2.987250e+13  5642903    F 2016-04-29 18:38:08+00:00   \n",
       "\n",
       "                        rdv  age   region_hopital  bolsa_familia  hypertendu  \\\n",
       "0 2016-04-29 00:00:00+00:00   62  JARDIM DA PENHA              0           1   \n",
       "\n",
       "   diabetique  alcoolique  handicaps_nbr  rappel_sms absent  \n",
       "0           0           0              0           0     No  "
      ]
     },
     "execution_count": 95,
     "metadata": {},
     "output_type": "execute_result"
    }
   ],
   "source": [
    "df.rename(columns={'PatientId':'id_patient',\n",
    "                   'AppointmentID':'id_rdv',\n",
    "                   'Gender':'sexe',\n",
    "                   'ScheduledDay':'prise_de_rdv',\n",
    "                   'AppointmentDay':'rdv',\n",
    "                   'Age':'age',\n",
    "                   'Neighbourhood':'region_hopital',\n",
    "                   'Scholarship':'bolsa_familia',\n",
    "                   'Hipertension':'hypertendu',\n",
    "                   'Diabetes':'diabetique',\n",
    "                   'Alcoholism':'alcoolique',\n",
    "                   'Handcap':'handicaps_nbr',\n",
    "                   'SMS_received':'rappel_sms',\n",
    "                   'No-show':'absent'}, inplace=True)\n",
    "# verifier le résulat:\n",
    "df.head(1)"
   ]
  },
  {
   "cell_type": "markdown",
   "metadata": {},
   "source": [
    "### Remplacer les valeurs des colonnes:"
   ]
  },
  {
   "cell_type": "code",
   "execution_count": 96,
   "metadata": {},
   "outputs": [
    {
     "data": {
      "text/plain": [
       "(array(['non', 'oui'], dtype=object),\n",
       " array(['oui', 'non'], dtype=object),\n",
       " array(['non', 'oui'], dtype=object),\n",
       " array(['non', 'oui'], dtype=object),\n",
       " array(['non', 'oui'], dtype=object),\n",
       " array(['non', 'oui'], dtype=object))"
      ]
     },
     "execution_count": 96,
     "metadata": {},
     "output_type": "execute_result"
    }
   ],
   "source": [
    "binary_columns=['bolsa_familia','hypertendu','diabetique','alcoolique','rappel_sms']\n",
    "df[binary_columns] = df[binary_columns].replace([0,1],['non','oui'])\n",
    "df['absent'] = df['absent'].replace(['Yes','No'],['oui','non'])\n",
    "df['bolsa_familia'].unique(), df['hypertendu'].unique(), df['diabetique'].unique(), df['alcoolique'].unique(), df['rappel_sms'].unique(), df['absent'].unique()"
   ]
  },
  {
   "cell_type": "markdown",
   "metadata": {},
   "source": [
    "### Convertir la colonne id_patient en type entier: "
   ]
  },
  {
   "cell_type": "code",
   "execution_count": 97,
   "metadata": {},
   "outputs": [
    {
     "data": {
      "text/plain": [
       "id_patient                      int64\n",
       "id_rdv                          int64\n",
       "sexe                           object\n",
       "prise_de_rdv      datetime64[ns, UTC]\n",
       "rdv               datetime64[ns, UTC]\n",
       "age                             int64\n",
       "region_hopital                 object\n",
       "bolsa_familia                  object\n",
       "hypertendu                     object\n",
       "diabetique                     object\n",
       "alcoolique                     object\n",
       "handicaps_nbr                   int64\n",
       "rappel_sms                     object\n",
       "absent                         object\n",
       "dtype: object"
      ]
     },
     "execution_count": 97,
     "metadata": {},
     "output_type": "execute_result"
    }
   ],
   "source": [
    "df=df.astype({'id_patient': 'int'})\n",
    "df.dtypes"
   ]
  },
  {
   "cell_type": "markdown",
   "metadata": {},
   "source": [
    "### Supprimer les redondances (rendez-vous enregistrés plus qu'une fois) :"
   ]
  },
  {
   "cell_type": "code",
   "execution_count": 98,
   "metadata": {},
   "outputs": [
    {
     "data": {
      "text/plain": [
       "0"
      ]
     },
     "execution_count": 98,
     "metadata": {},
     "output_type": "execute_result"
    }
   ],
   "source": [
    "df=df.drop_duplicates(subset=['id_patient','sexe','prise_de_rdv','rdv'],ignore_index=True)\n",
    "\n",
    "# tester les résultats\n",
    "df.duplicated(subset=['id_patient','sexe','prise_de_rdv','rdv']).sum()"
   ]
  },
  {
   "cell_type": "markdown",
   "metadata": {},
   "source": [
    " * Maintenant, je peux supprimer la colonne id_rdv puisqu'elle devient superflu."
   ]
  },
  {
   "cell_type": "code",
   "execution_count": 99,
   "metadata": {},
   "outputs": [
    {
     "data": {
      "text/plain": [
       "(109193, 13)"
      ]
     },
     "execution_count": 99,
     "metadata": {},
     "output_type": "execute_result"
    }
   ],
   "source": [
    "df.drop('id_rdv',axis=1,inplace=True)\n",
    "df.shape"
   ]
  },
  {
   "cell_type": "markdown",
   "metadata": {},
   "source": [
    "### Supprimer les données aberrantes :"
   ]
  },
  {
   "cell_type": "code",
   "execution_count": 100,
   "metadata": {},
   "outputs": [],
   "source": [
    "#les âges moins de 0 ans et plus ou égal à 95 ans.\n",
    "df=df.drop(df.query('age < 0 or age >=95').index)\n",
    "\n",
    "#les prises de rendez-vous qui datent d'après le rendez-vous en soi.\n",
    "df=df.drop(df.query('prise_de_rdv.dt.date > rdv.dt.date').index)"
   ]
  },
  {
   "cell_type": "code",
   "execution_count": 101,
   "metadata": {},
   "outputs": [
    {
     "name": "stdout",
     "output_type": "stream",
     "text": [
      "nombre d'individus agés de <0 ou >=95 : 0\n",
      "nombre de prises datés d'après le rdv : 0\n"
     ]
    },
    {
     "data": {
      "text/plain": [
       "(109119, 13)"
      ]
     },
     "execution_count": 101,
     "metadata": {},
     "output_type": "execute_result"
    }
   ],
   "source": [
    "# verifications :\n",
    "print(\"nombre d'individus agés de <0 ou >=95 :\",len(df.query('age < 0 or age >=95').index))\n",
    "print(\"nombre de prises datés d'après le rdv :\",len(df.query('prise_de_rdv.dt.date > rdv.dt.date').index))\n",
    "df.shape"
   ]
  },
  {
   "cell_type": "markdown",
   "metadata": {},
   "source": [
    "### Enregistrer les données nettoyées :"
   ]
  },
  {
   "cell_type": "code",
   "execution_count": 102,
   "metadata": {},
   "outputs": [],
   "source": [
    "df.to_csv('clean_data.csv', index=False)"
   ]
  },
  {
   "cell_type": "markdown",
   "metadata": {},
   "source": [
    "<a id='eda'></a>\n",
    "## Exploratory Data Analysis"
   ]
  },
  {
   "cell_type": "markdown",
   "metadata": {},
   "source": [
    "### Quelques modifications nécessaires :"
   ]
  },
  {
   "cell_type": "markdown",
   "metadata": {},
   "source": [
    "Avant d'aborder les questions, j'estime qu'il est nécessaire d'avoir trois nouvelles colonnes pour une analyse plus pertinente :\n",
    "   1. une colonne qui contient le nombre de jours qui sépare la prise de rendez-vous et le rendez-vous, que je nommerai 'jours_au_rdv' (de type entier).\n",
    "   2. une autre qui catégorise les âges en quatres tranches : mineurs (0-18), jeune (19-30), mur (31-45), vieux (46-94), que je nommerai 'tranche_age' (de type chaine de caractères).\n",
    "   3. une dernière nommée 'handicape' qui distingue entre les gens handicappés (quelque soit le nombre de leurs handicaps) et les gens sans handicap, ayant pour valeur 'oui' et 'non' respectivement (de type chaine de caractère)."
   ]
  },
  {
   "cell_type": "markdown",
   "metadata": {},
   "source": [
    "### Création de la colonne contenant les différences en jours entre la date de prise de rendez-vous et le rendez-vous"
   ]
  },
  {
   "cell_type": "code",
   "execution_count": 103,
   "metadata": {},
   "outputs": [],
   "source": [
    "df['jours_au_rdv']= df['rdv'].dt.date - df['prise_de_rdv'].dt.date"
   ]
  },
  {
   "cell_type": "code",
   "execution_count": 104,
   "metadata": {},
   "outputs": [
    {
     "data": {
      "text/plain": [
       "15475     7 days\n",
       "79682     8 days\n",
       "20913     0 days\n",
       "47351    21 days\n",
       "46373    14 days\n",
       "37914     0 days\n",
       "63882     1 days\n",
       "5715      0 days\n",
       "36048     0 days\n",
       "100039   21 days\n",
       "Name: jours_au_rdv, dtype: timedelta64[ns]"
      ]
     },
     "execution_count": 104,
     "metadata": {},
     "output_type": "execute_result"
    }
   ],
   "source": [
    "df['jours_au_rdv'].sample(10)"
   ]
  },
  {
   "cell_type": "markdown",
   "metadata": {},
   "source": [
    "    - il faut en extraire uniquement le nombre de jours. Je procède donc d'abord par convertir la colonne en chaine de caractère pour pouvoir utiliser la methode str et sa fonction extract."
   ]
  },
  {
   "cell_type": "code",
   "execution_count": 105,
   "metadata": {},
   "outputs": [
    {
     "data": {
      "text/plain": [
       "id_patient                      int64\n",
       "sexe                           object\n",
       "prise_de_rdv      datetime64[ns, UTC]\n",
       "rdv               datetime64[ns, UTC]\n",
       "age                             int64\n",
       "region_hopital                 object\n",
       "bolsa_familia                  object\n",
       "hypertendu                     object\n",
       "diabetique                     object\n",
       "alcoolique                     object\n",
       "handicaps_nbr                   int64\n",
       "rappel_sms                     object\n",
       "absent                         object\n",
       "jours_au_rdv                   object\n",
       "dtype: object"
      ]
     },
     "execution_count": 105,
     "metadata": {},
     "output_type": "execute_result"
    }
   ],
   "source": [
    "df= df.astype({'jours_au_rdv':'str'})\n",
    "df.dtypes"
   ]
  },
  {
   "cell_type": "code",
   "execution_count": 106,
   "metadata": {},
   "outputs": [
    {
     "data": {
      "text/plain": [
       "array([  0,   2,   3,   1,   4,   9,  29,  10,  23,  11,  18,  17,  14,\n",
       "        28,  24,  21,  15,  16,  22,  43,  30,  31,  42,  32,  56,  45,\n",
       "        46,  39,  37,  38,  44,  50,  60,  52,  53,  65,  67,  91,  66,\n",
       "        84,  78,  87, 115, 109,  63,  70,  72,  57,  58,  51,  59,  41,\n",
       "        49,  73,  64,  20,  33,  34,   6,  35,  36,  12,  13,  40,  47,\n",
       "         8,   5,   7,  25,  26,  48,  27,  19,  61,  55,  62, 176,  54,\n",
       "        77,  69,  83,  76,  89,  81, 103,  79,  68,  75,  85, 112,  80,\n",
       "        86,  98,  94, 142, 155, 162, 169, 104, 133, 125,  96,  88,  90,\n",
       "       151, 126, 127, 111, 119,  74,  71,  82, 108, 110, 102, 122, 101,\n",
       "       105,  92,  97,  93, 107,  95, 139, 132, 179, 117, 146, 123])"
      ]
     },
     "execution_count": 106,
     "metadata": {},
     "output_type": "execute_result"
    }
   ],
   "source": [
    "df['jours_au_rdv'] = df['jours_au_rdv'].str.extract('(\\d+)').astype(int)\n",
    "df['jours_au_rdv'].unique()"
   ]
  },
  {
   "cell_type": "markdown",
   "metadata": {},
   "source": [
    "    * je m'assure que la nouvelle colonne ne contient pas de valeurs manquantes"
   ]
  },
  {
   "cell_type": "code",
   "execution_count": 107,
   "metadata": {},
   "outputs": [
    {
     "data": {
      "text/plain": [
       "0"
      ]
     },
     "execution_count": 107,
     "metadata": {},
     "output_type": "execute_result"
    }
   ],
   "source": [
    "df['jours_au_rdv'].isnull().sum()"
   ]
  },
  {
   "cell_type": "markdown",
   "metadata": {},
   "source": [
    "    * ni de valeurs aberrantes"
   ]
  },
  {
   "cell_type": "code",
   "execution_count": 108,
   "metadata": {},
   "outputs": [
    {
     "data": {
      "text/plain": [
       "count    109119.000000\n",
       "mean         10.066194\n",
       "std          15.196887\n",
       "min           0.000000\n",
       "25%           0.000000\n",
       "50%           4.000000\n",
       "75%          14.000000\n",
       "max         179.000000\n",
       "Name: jours_au_rdv, dtype: float64"
      ]
     },
     "execution_count": 108,
     "metadata": {},
     "output_type": "execute_result"
    }
   ],
   "source": [
    "df['jours_au_rdv'].describe()"
   ]
  },
  {
   "cell_type": "markdown",
   "metadata": {},
   "source": [
    "    * je veux m'assurer aussi qu'il n'y a pas des outliers"
   ]
  },
  {
   "cell_type": "code",
   "execution_count": 109,
   "metadata": {},
   "outputs": [
    {
     "data": {
      "image/png": "[encoded data removed]",
      "text/plain": [
       "<Figure size 432x288 with 1 Axes>"
      ]
     },
     "metadata": {},
     "output_type": "display_data"
    }
   ],
   "source": [
    "df['jours_au_rdv'].plot(kind='box')\n",
    "\n",
    "plt.title('Outliers du nombre de jours avant le rdv',fontsize=15)\n",
    "#plt.xlabel('Le libellé de l'axe des abscices')\n",
    "plt.ylabel('nombre de jours au rdv',fontsize=15);"
   ]
  },
  {
   "cell_type": "markdown",
   "metadata": {},
   "source": [
    "    * Il y a beaucoup d'outliers à partir d'environs 30 jours. Mais après consultation des médecins de mon entourage, je constate qu'il est possible chez certains médecins de prendre des rendez-vous de 6 mois d'avance (ce qui représente la plus grande durée de la colonne en question). Je décide donc de les garder pour le moment."
   ]
  },
  {
   "cell_type": "markdown",
   "metadata": {},
   "source": [
    "### Création d'une colonne contenant les tranches d'âges des patients (mineur, jeune, mur, vieux)"
   ]
  },
  {
   "cell_type": "code",
   "execution_count": 110,
   "metadata": {},
   "outputs": [],
   "source": [
    "age_bins = [0 ,18 ,30 ,45 ,95]\n",
    "bin_names =['mineur','jeune','mur','vieux']\n",
    "df['tranche_age']=pd.cut(df['age'], age_bins, labels=bin_names,include_lowest=True)"
   ]
  },
  {
   "cell_type": "markdown",
   "metadata": {},
   "source": [
    "    - je verifie encore qu'elle ne contient pas de valeurs manquantes"
   ]
  },
  {
   "cell_type": "code",
   "execution_count": 111,
   "metadata": {},
   "outputs": [
    {
     "data": {
      "text/plain": [
       "0"
      ]
     },
     "execution_count": 111,
     "metadata": {},
     "output_type": "execute_result"
    }
   ],
   "source": [
    "df['tranche_age'].isnull().sum()"
   ]
  },
  {
   "cell_type": "markdown",
   "metadata": {},
   "source": [
    "### Création d'une colonne pour distinguer les handicapés des non-handicapés"
   ]
  },
  {
   "cell_type": "code",
   "execution_count": 112,
   "metadata": {},
   "outputs": [
    {
     "data": {
      "text/plain": [
       "count    109119.000000\n",
       "mean          0.022058\n",
       "std           0.160643\n",
       "min           0.000000\n",
       "25%           0.000000\n",
       "50%           0.000000\n",
       "75%           0.000000\n",
       "max           4.000000\n",
       "Name: handicaps_nbr, dtype: float64"
      ]
     },
     "execution_count": 112,
     "metadata": {},
     "output_type": "execute_result"
    }
   ],
   "source": [
    "df['handicaps_nbr'].describe()"
   ]
  },
  {
   "cell_type": "code",
   "execution_count": 113,
   "metadata": {},
   "outputs": [
    {
     "data": {
      "text/plain": [
       "array(['non', 'oui'], dtype=object)"
      ]
     },
     "execution_count": 113,
     "metadata": {},
     "output_type": "execute_result"
    }
   ],
   "source": [
    "df['handicape']=df['handicaps_nbr'].apply(lambda x: 'non' if x==0 else 'oui')\n",
    "df['handicape'].unique()"
   ]
  },
  {
   "cell_type": "code",
   "execution_count": 114,
   "metadata": {},
   "outputs": [
    {
     "data": {
      "text/plain": [
       "0"
      ]
     },
     "execution_count": 114,
     "metadata": {},
     "output_type": "execute_result"
    }
   ],
   "source": [
    "df['handicape'].isnull().sum()"
   ]
  },
  {
   "cell_type": "markdown",
   "metadata": {},
   "source": [
    "    - je vérifie qu'il n'y a pas de valeurs contradictoires"
   ]
  },
  {
   "cell_type": "code",
   "execution_count": 115,
   "metadata": {},
   "outputs": [
    {
     "data": {
      "text/plain": [
       "0"
      ]
     },
     "execution_count": 115,
     "metadata": {},
     "output_type": "execute_result"
    }
   ],
   "source": [
    "df.query('handicape==\"non\" and handicaps_nbr>0').count().sum()"
   ]
  },
  {
   "cell_type": "code",
   "execution_count": 116,
   "metadata": {},
   "outputs": [
    {
     "data": {
      "text/plain": [
       "0"
      ]
     },
     "execution_count": 116,
     "metadata": {},
     "output_type": "execute_result"
    }
   ],
   "source": [
    "df.query('handicape==\"oui\" and handicaps_nbr == 0').count().sum()"
   ]
  },
  {
   "cell_type": "markdown",
   "metadata": {},
   "source": [
    "    - je ne prévois pas de faire une analyse selon le nombre d'handicaps. Je supprime la colonne correspondante."
   ]
  },
  {
   "cell_type": "code",
   "execution_count": 117,
   "metadata": {},
   "outputs": [
    {
     "data": {
      "text/plain": [
       "(109119, 13)"
      ]
     },
     "execution_count": 117,
     "metadata": {},
     "output_type": "execute_result"
    }
   ],
   "source": [
    "df.drop(['handicaps_nbr','prise_de_rdv','rdv'],axis=1,inplace=True)\n",
    "df.shape"
   ]
  },
  {
   "cell_type": "markdown",
   "metadata": {},
   "source": [
    "### Enregistrer les données après les dernières modifications"
   ]
  },
  {
   "cell_type": "code",
   "execution_count": 118,
   "metadata": {},
   "outputs": [],
   "source": [
    "df.to_csv('modified_data.csv',index=False)"
   ]
  },
  {
   "cell_type": "code",
   "execution_count": 119,
   "metadata": {},
   "outputs": [
    {
     "data": {
      "text/html": [
       "<div>\n",
       "<style scoped>\n",
       "    .dataframe tbody tr th:only-of-type {\n",
       "        vertical-align: middle;\n",
       "    }\n",
       "\n",
       "    .dataframe tbody tr th {\n",
       "        vertical-align: top;\n",
       "    }\n",
       "\n",
       "    .dataframe thead th {\n",
       "        text-align: right;\n",
       "    }\n",
       "</style>\n",
       "<table border=\"1\" class=\"dataframe\">\n",
       "  <thead>\n",
       "    <tr style=\"text-align: right;\">\n",
       "      <th></th>\n",
       "      <th>id_patient</th>\n",
       "      <th>sexe</th>\n",
       "      <th>age</th>\n",
       "      <th>region_hopital</th>\n",
       "      <th>bolsa_familia</th>\n",
       "      <th>hypertendu</th>\n",
       "      <th>diabetique</th>\n",
       "      <th>alcoolique</th>\n",
       "      <th>rappel_sms</th>\n",
       "      <th>absent</th>\n",
       "      <th>jours_au_rdv</th>\n",
       "      <th>tranche_age</th>\n",
       "      <th>handicape</th>\n",
       "    </tr>\n",
       "  </thead>\n",
       "  <tbody>\n",
       "    <tr>\n",
       "      <th>61551</th>\n",
       "      <td>325261823863</td>\n",
       "      <td>F</td>\n",
       "      <td>35</td>\n",
       "      <td>JABOUR</td>\n",
       "      <td>oui</td>\n",
       "      <td>non</td>\n",
       "      <td>non</td>\n",
       "      <td>non</td>\n",
       "      <td>oui</td>\n",
       "      <td>oui</td>\n",
       "      <td>35</td>\n",
       "      <td>mur</td>\n",
       "      <td>non</td>\n",
       "    </tr>\n",
       "    <tr>\n",
       "      <th>58167</th>\n",
       "      <td>74843914937688</td>\n",
       "      <td>F</td>\n",
       "      <td>27</td>\n",
       "      <td>SANTA TEREZA</td>\n",
       "      <td>non</td>\n",
       "      <td>non</td>\n",
       "      <td>non</td>\n",
       "      <td>non</td>\n",
       "      <td>non</td>\n",
       "      <td>oui</td>\n",
       "      <td>6</td>\n",
       "      <td>jeune</td>\n",
       "      <td>non</td>\n",
       "    </tr>\n",
       "    <tr>\n",
       "      <th>73590</th>\n",
       "      <td>625848675815</td>\n",
       "      <td>F</td>\n",
       "      <td>50</td>\n",
       "      <td>JARDIM CAMBURI</td>\n",
       "      <td>non</td>\n",
       "      <td>non</td>\n",
       "      <td>non</td>\n",
       "      <td>non</td>\n",
       "      <td>oui</td>\n",
       "      <td>non</td>\n",
       "      <td>11</td>\n",
       "      <td>vieux</td>\n",
       "      <td>non</td>\n",
       "    </tr>\n",
       "    <tr>\n",
       "      <th>41168</th>\n",
       "      <td>86353582821926</td>\n",
       "      <td>F</td>\n",
       "      <td>4</td>\n",
       "      <td>SÃO PEDRO</td>\n",
       "      <td>non</td>\n",
       "      <td>non</td>\n",
       "      <td>non</td>\n",
       "      <td>non</td>\n",
       "      <td>non</td>\n",
       "      <td>oui</td>\n",
       "      <td>7</td>\n",
       "      <td>mineur</td>\n",
       "      <td>non</td>\n",
       "    </tr>\n",
       "    <tr>\n",
       "      <th>40398</th>\n",
       "      <td>989417272579523</td>\n",
       "      <td>M</td>\n",
       "      <td>93</td>\n",
       "      <td>MARIA ORTIZ</td>\n",
       "      <td>non</td>\n",
       "      <td>non</td>\n",
       "      <td>non</td>\n",
       "      <td>non</td>\n",
       "      <td>non</td>\n",
       "      <td>non</td>\n",
       "      <td>34</td>\n",
       "      <td>vieux</td>\n",
       "      <td>non</td>\n",
       "    </tr>\n",
       "  </tbody>\n",
       "</table>\n",
       "</div>"
      ],
      "text/plain": [
       "            id_patient sexe  age  region_hopital bolsa_familia hypertendu  \\\n",
       "61551     325261823863    F   35          JABOUR           oui        non   \n",
       "58167   74843914937688    F   27    SANTA TEREZA           non        non   \n",
       "73590     625848675815    F   50  JARDIM CAMBURI           non        non   \n",
       "41168   86353582821926    F    4       SÃO PEDRO           non        non   \n",
       "40398  989417272579523    M   93     MARIA ORTIZ           non        non   \n",
       "\n",
       "      diabetique alcoolique rappel_sms absent  jours_au_rdv tranche_age  \\\n",
       "61551        non        non        oui    oui            35         mur   \n",
       "58167        non        non        non    oui             6       jeune   \n",
       "73590        non        non        oui    non            11       vieux   \n",
       "41168        non        non        non    oui             7      mineur   \n",
       "40398        non        non        non    non            34       vieux   \n",
       "\n",
       "      handicape  \n",
       "61551       non  \n",
       "58167       non  \n",
       "73590       non  \n",
       "41168       non  \n",
       "40398       non  "
      ]
     },
     "execution_count": 119,
     "metadata": {},
     "output_type": "execute_result"
    }
   ],
   "source": [
    "df.sample(5)"
   ]
  },
  {
   "cell_type": "markdown",
   "metadata": {},
   "source": [
    "### Est-ce que les patients absents pour leur rendez-vous ont reçu un rappel ?"
   ]
  },
  {
   "cell_type": "markdown",
   "metadata": {},
   "source": [
    "    - pour aborder cette question, je dois faire un comptage des patients qui ont reçu un sms de rappel, parmi les absents et les présentes à leurs rendez-vous séparément."
   ]
  },
  {
   "cell_type": "code",
   "execution_count": 120,
   "metadata": {},
   "outputs": [
    {
     "data": {
      "text/plain": [
       "absent\n",
       "non    87275\n",
       "oui    21844\n",
       "Name: id_patient, dtype: int64"
      ]
     },
     "execution_count": 120,
     "metadata": {},
     "output_type": "execute_result"
    }
   ],
   "source": [
    "totals = df.groupby('absent').count()['id_patient']\n",
    "totals"
   ]
  },
  {
   "cell_type": "markdown",
   "metadata": {},
   "source": [
    "    - le nombre de patients absents et présents est différent, il serait donc plus rigoureux d'utiliser des proportions de chaque catégorie."
   ]
  },
  {
   "cell_type": "markdown",
   "metadata": {},
   "source": [
    "    - Rétrospectivement, je constate le besoin de calculer à plusieurs reprises des proportions, avec différents dataframes et totale par moment, je définis alors une fonction pour cela :"
   ]
  },
  {
   "cell_type": "code",
   "execution_count": 121,
   "metadata": {},
   "outputs": [],
   "source": [
    "def proportion_calc(column_list, dataframe=df, total_counts=totals):  \n",
    "    \n",
    "    counts = dataframe.groupby(column_list).count()['id_patient']    \n",
    "\n",
    "    absent_proportion = counts['oui']/total_counts['oui']\n",
    "    present_proportion = counts['non']/total_counts['non']\n",
    "    \n",
    "    return counts, absent_proportion, present_proportion"
   ]
  },
  {
   "cell_type": "code",
   "execution_count": 122,
   "metadata": {},
   "outputs": [],
   "source": [
    "sms_counts, absent_sms_proportion, present_sms_proportion = proportion_calc(['absent','rappel_sms'])"
   ]
  },
  {
   "cell_type": "code",
   "execution_count": 123,
   "metadata": {},
   "outputs": [
    {
     "data": {
      "text/plain": [
       "(Index(['non', 'oui'], dtype='object', name='rappel_sms'),\n",
       " Index(['non', 'oui'], dtype='object', name='rappel_sms'))"
      ]
     },
     "execution_count": 123,
     "metadata": {},
     "output_type": "execute_result"
    }
   ],
   "source": [
    "# je verifie la position des indices pour assigner correctement les labels de l'axe des x\n",
    "absent_sms_proportion.index , present_sms_proportion.index"
   ]
  },
  {
   "cell_type": "markdown",
   "metadata": {},
   "source": [
    "    - je dresse un graphe qui représente la proportion des patients qui ont reçu un sms de rappel contre celle des patients présents, et je compare avec le cas de ceux qui n'ont pas reçu d'sms.\n",
    "    - avant cela, je définis une fonction qui permettra de dresser les mêmes types de graphes en cas de besoin."
   ]
  },
  {
   "cell_type": "code",
   "execution_count": 124,
   "metadata": {},
   "outputs": [],
   "source": [
    "def plot_bar(proportion1, proportion2, tick_labels, title, x_label, y_label):\n",
    "    ind = np.arange(len(proportion1))\n",
    "    width = 0.3\n",
    "    absent_bar = plt.bar(ind, proportion1, width, color='r', alpha=.6, label='Absents au rdv')\n",
    "    present_bar = plt.bar(ind+width, proportion2, width, color='g', alpha=.6, label='Présents au rdv')\n",
    "\n",
    "    locations=ind+width/2\n",
    "    labels = tick_labels\n",
    "    plt.xticks(locations, labels)\n",
    "\n",
    "    plt.title(title, fontsize=15)\n",
    "    plt.xlabel(x_label, fontsize=15)\n",
    "    plt.ylabel(y_label, fontsize=15)\n",
    "    plt.legend();"
   ]
  },
  {
   "cell_type": "code",
   "execution_count": 125,
   "metadata": {},
   "outputs": [
    {
     "data": {
      "image/png": "[encoded data removed]",
      "text/plain": [
       "<Figure size 432x288 with 1 Axes>"
      ]
     },
     "metadata": {},
     "output_type": "display_data"
    }
   ],
   "source": [
    "plot_bar(absent_sms_proportion, #proportion1\n",
    "         present_sms_proportion, #proportion2\n",
    "         ['non-rappelé', 'rappelé'], #tick_labels\n",
    "         \"La proportion de réception ou non d'sms de rappel des rendez-vous medicaux\", #title\n",
    "         \"réception ou non d'un sms de rappel\", #x_label\n",
    "         \"proportions\") #y_label"
   ]
  },
  {
   "cell_type": "markdown",
   "metadata": {},
   "source": [
    "    - On observe que les patients qui n'ont pas reçu de rappel sont plus nombreux.Parmi eux, il y a plus de patients qui se sont présentés aux rendez-vous.\n",
    "    Parmi les patients qui ont reçu un rappel, on observe que c'est l'inverse : il y a plus d'absences dans cette catégorie."
   ]
  },
  {
   "cell_type": "markdown",
   "metadata": {},
   "source": [
    "### Est-ce que il y a une tranche d'age qui s'est absentée le plus à ses rendez-vous médical ?"
   ]
  },
  {
   "cell_type": "markdown",
   "metadata": {},
   "source": [
    "    - je calcule les proportions nécessaires de chaque catégorie."
   ]
  },
  {
   "cell_type": "code",
   "execution_count": 126,
   "metadata": {},
   "outputs": [],
   "source": [
    "age_counts, absent_age_proportion, present_age_proportion = proportion_calc(['absent','tranche_age'])"
   ]
  },
  {
   "cell_type": "markdown",
   "metadata": {},
   "source": [
    "    - je visualise la proportion des absents et des présents pour chaque tranche d'âge."
   ]
  },
  {
   "cell_type": "code",
   "execution_count": 127,
   "metadata": {},
   "outputs": [
    {
     "data": {
      "image/png": "[encoded data removed]",
      "text/plain": [
       "<Figure size 432x288 with 1 Axes>"
      ]
     },
     "metadata": {},
     "output_type": "display_data"
    }
   ],
   "source": [
    "plot_bar(absent_age_proportion, #proportion1\n",
    "         present_age_proportion, #proportion2\n",
    "         ['mineur','jeune','mur','vieux'], #tick_labels\n",
    "         \"La proportion de présence/absence de chaque tranche d'age\", #title\n",
    "         \"tranche d'age\", #x_label\n",
    "         \"proportions\") #y_label"
   ]
  },
  {
   "cell_type": "markdown",
   "metadata": {},
   "source": [
    "    - On observe que la distribution des deux catégories (patients absents et patients présents) est très similaire. Ches les patients agés de moins de 45 ans (mineur, jeune, mûr) il y a beaucoup plus d'absence. C'est remarquable le plus chez les jeunes (19-30 ans).\n",
    "    Les présences deviennent dominantes chez les gens agés de plus de 45 ans qui représente la catégorie la plus nombreuse."
   ]
  },
  {
   "cell_type": "markdown",
   "metadata": {},
   "source": [
    "### Est-ce que la durée entre la prise de rendez-vous et le rendez-vous affecte l'absence ?"
   ]
  },
  {
   "cell_type": "markdown",
   "metadata": {},
   "source": [
    "    - pour cela je dois compter les cas, puis transformer la série résultante en array de numpy pour mieux les visualiser."
   ]
  },
  {
   "cell_type": "code",
   "execution_count": 128,
   "metadata": {},
   "outputs": [
    {
     "data": {
      "image/png": "[encoded data removed]",
      "text/plain": [
       "<Figure size 432x288 with 1 Axes>"
      ]
     },
     "metadata": {},
     "output_type": "display_data"
    }
   ],
   "source": [
    "jours_counts, absent_jours, present_jours = proportion_calc(['absent','jours_au_rdv'])\n",
    "\n",
    "absent_jours_x=absent_jours.index.to_numpy()\n",
    "absent_jours_y=absent_jours.to_numpy()\n",
    "\n",
    "present_jours_x=present_jours.index.to_numpy()\n",
    "present_jours_y=present_jours.to_numpy()\n",
    "\n",
    "plt.scatter(absent_jours_x , absent_jours_y, label='absents au rdv')\n",
    "plt.scatter(present_jours_x , present_jours_y, label='presents au rdv')\n",
    "\n",
    "plt.title(\"La proportion de présence/absence selon le nombre de jours entre prise de rdv et rdv\",fontsize=15)\n",
    "plt.xlabel(\"nombre de jours de la prise de rdv jusqu'au rdv\",fontsize=15)\n",
    "plt.ylabel(\"proportions\",fontsize=15)\n",
    "plt.legend();"
   ]
  },
  {
   "cell_type": "markdown",
   "metadata": {},
   "source": [
    "    - les proportions des patients absents et des patients présents sont constantes au delà d'environs 30 jours.\n",
    "    - Avant 30 jours, on remarque une corrélation négative potentielle. Celle-ci est à explorer plus en la mettant en valeu en éliminant les outliers."
   ]
  },
  {
   "cell_type": "markdown",
   "metadata": {},
   "source": [
    "    - le graphe n'étant pas particulierement illuminant, je voudrais le ressayer en supprimant les outliers (les rendez-vous pris à plus d'un mois d'écart)."
   ]
  },
  {
   "cell_type": "code",
   "execution_count": 129,
   "metadata": {},
   "outputs": [],
   "source": [
    "df_jours=df.drop(df.query('jours_au_rdv > 30').index)"
   ]
  },
  {
   "cell_type": "code",
   "execution_count": 130,
   "metadata": {},
   "outputs": [
    {
     "data": {
      "image/png": "[encoded data removed]",
      "text/plain": [
       "<Figure size 432x288 with 1 Axes>"
      ]
     },
     "metadata": {},
     "output_type": "display_data"
    }
   ],
   "source": [
    "totals_new = df_jours.groupby('absent').count()['id_patient']\n",
    "\n",
    "jours_counts_new, absent_jours_new, present_jours_new = proportion_calc(['absent','jours_au_rdv'],dataframe=df_jours, total_counts=totals_new)\n",
    "\n",
    "absent_new_x=absent_jours_new.index.to_numpy()\n",
    "absent_new_y=absent_jours_new.to_numpy()\n",
    "\n",
    "present_new_x=present_jours_new.index.to_numpy()\n",
    "present_new_y=present_jours_new.to_numpy()\n",
    "\n",
    "plt.scatter(absent_new_x , absent_new_y, label='absents au rdv')\n",
    "plt.scatter(present_new_x , present_new_y, label='absents au rdv')\n",
    "\n",
    "plt.title(\"La proportion de présence/absence selon le nombre de jours entre prise de rdv et rdv\",fontsize=15)\n",
    "plt.xlabel(\"nombre de jours de la prise de rdv jusqu'au rdv\",fontsize=15)\n",
    "plt.ylabel(\"proportions\",fontsize=15)\n",
    "plt.legend();"
   ]
  },
  {
   "cell_type": "markdown",
   "metadata": {},
   "source": [
    "    - les deux échantillons révoluent de façons très similaires, et aucune corrélation particulière n'est à noter."
   ]
  },
  {
   "cell_type": "markdown",
   "metadata": {},
   "source": [
    "### Est-ce que certaines maladies caractéristiques sont plus communes chez les patients absents ?"
   ]
  },
  {
   "cell_type": "markdown",
   "metadata": {},
   "source": [
    "    - je voudrais comparer le nombre d'absents et de présents selon leur état de santé, pour cela je dois d'abord calculer deux dataframes (une pour les patients sans aucune maladie chronique signalée, et une autre pour les patients avec au moins une maladie chronique), à l'aide de quoi je calculerai les proportions approprier."
   ]
  },
  {
   "cell_type": "code",
   "execution_count": 131,
   "metadata": {},
   "outputs": [],
   "source": [
    "df_sains = df.query('hypertendu==\"non\" and diabetique ==\"non\" and alcoolique==\"non\" and handicape==\"non\"')\n",
    "df_malades = df.query('hypertendu==\"oui\" or diabetique ==\"oui\" or alcoolique==\"oui\" or handicape==\"oui\"')"
   ]
  },
  {
   "cell_type": "code",
   "execution_count": 132,
   "metadata": {},
   "outputs": [
    {
     "name": "stdout",
     "output_type": "stream",
     "text": [
      "proportions d'hypertendus : 0.16865043032411647 0.20429676310512748\n",
      "proportions de diabetiques : 0.06441127998535066 0.07367516470925237\n",
      "proportions d'alcooliques: 0.030305804797656107 0.030570037238613578\n",
      "proportionsd'handicapés : 0.01785387291704816 0.0206932111142939\n"
     ]
    }
   ],
   "source": [
    "sains_counts, absent_sain_proportion, present_sain_proportion = proportion_calc('absent', dataframe=df_sains)\n",
    "\n",
    "hypertendu_counts, absent_hypertendu, present_hypertendu = proportion_calc('absent',dataframe=df_malades.query('hypertendu==\"oui\"'))\n",
    "print(\"proportions d'hypertendus :\",absent_hypertendu , present_hypertendu)\n",
    "\n",
    "\n",
    "diabetique_counts, absent_diabetique, present_diabetique = proportion_calc('absent',dataframe=df_malades.query('diabetique==\"oui\"'))\n",
    "print(\"proportions de diabetiques :\",absent_diabetique , present_diabetique)\n",
    "\n",
    "\n",
    "alcoolique_counts, absent_alcoolique, present_alcoolique = proportion_calc('absent',dataframe=df_malades.query('alcoolique==\"oui\"'))\n",
    "print(\"proportions d'alcooliques:\",absent_alcoolique , present_alcoolique)\n",
    "\n",
    "\n",
    "handicape_counts, absent_handicape, present_handicape = proportion_calc('absent',dataframe=df_malades.query('handicape==\"oui\"'))\n",
    "print(\"proportionsd'handicapés :\",absent_handicape , present_handicape)"
   ]
  },
  {
   "cell_type": "code",
   "execution_count": 133,
   "metadata": {},
   "outputs": [],
   "source": [
    "absent_proportions =pd.Series([absent_sain_proportion,absent_hypertendu,absent_diabetique,absent_alcoolique, absent_handicape])\n",
    "present_proportions =pd.Series([present_sain_proportion,present_hypertendu,present_diabetique,present_alcoolique, present_handicape])"
   ]
  },
  {
   "cell_type": "markdown",
   "metadata": {},
   "source": [
    "    - je visualise les proportions selon des barres pour comparer visuellement."
   ]
  },
  {
   "cell_type": "code",
   "execution_count": 134,
   "metadata": {},
   "outputs": [
    {
     "data": {
      "image/png": "[encoded data removed]",
      "text/plain": [
       "<Figure size 432x288 with 1 Axes>"
      ]
     },
     "metadata": {},
     "output_type": "display_data"
    }
   ],
   "source": [
    "plot_bar(absent_proportions, #proportion1\n",
    "         present_proportions, #proportion2\n",
    "         ['sain','hypertendu','diabetique','alcoolique','handicape'], #tick_labels\n",
    "         \"La proportion de présence/absence selon l'état de santé des patients\", #title\n",
    "         \"etat de santé\", #x_label\n",
    "         \"proportions\") #y_label\n"
   ]
  },
  {
   "cell_type": "markdown",
   "metadata": {},
   "source": [
    "    - les patients sans conditions chroniques représentent la majorité des patients enregistrés. On y observe plus d'absences que de présences.\n",
    "    - On remarque plus de présences parmi les patients ayant une condition chronique, notamment les hypertendu en premier lieu et les diabetiques en second lieu."
   ]
  },
  {
   "cell_type": "markdown",
   "metadata": {},
   "source": [
    "    - là, je reviens à la question initiale, et je visualise les pourventages de patients selon chaque maladies parmi les absents puis les présents pour voir s'il y a une condition particulière qui est mise en évidence."
   ]
  },
  {
   "cell_type": "code",
   "execution_count": 135,
   "metadata": {},
   "outputs": [
    {
     "data": {
      "image/png": "[encoded data removed]",
      "text/plain": [
       "<Figure size 432x288 with 1 Axes>"
      ]
     },
     "metadata": {},
     "output_type": "display_data"
    }
   ],
   "source": [
    "maladies_labels =['hypertendu','diabetique','alcoolique','handicape']\n",
    "\n",
    "sizes_maladies_absent = absent_proportions[1:5].values\n",
    "\n",
    "fig2, ax = plt.subplots()\n",
    "ax.pie(sizes_maladies_absent, labels=maladies_labels, autopct='%1.1f%%')\n",
    "\n",
    "plt.title(\"le pourcentage de patients absents atteints d'une certaine maladie\",fontsize=15) \n",
    "plt.show();"
   ]
  },
  {
   "cell_type": "markdown",
   "metadata": {},
   "source": [
    "    - Les hypertendus représentent la majorités des patients absents enregistrés ayant une condition chronique (60% de l'échantillon). Les handicapés étant une minorités (6.3%)."
   ]
  },
  {
   "cell_type": "code",
   "execution_count": 136,
   "metadata": {},
   "outputs": [
    {
     "data": {
      "image/png": "[encoded data removed]",
      "text/plain": [
       "<Figure size 432x288 with 1 Axes>"
      ]
     },
     "metadata": {},
     "output_type": "display_data"
    }
   ],
   "source": [
    "sizes_maladies_present = present_proportions[1:5].values\n",
    "\n",
    "fig2, ax = plt.subplots()\n",
    "ax.pie(sizes_maladies_present, labels=maladies_labels, autopct='%1.1f%%')\n",
    "\n",
    "plt.title(\"le pourcentage de patients présents atteints d'une certaine maladie\",fontsize=15)  \n",
    "plt.show();"
   ]
  },
  {
   "cell_type": "markdown",
   "metadata": {},
   "source": [
    "    - Les hypertendus représentent aussi environs 60% des patients présents ayant une condition chronique."
   ]
  },
  {
   "cell_type": "markdown",
   "metadata": {},
   "source": [
    "### Est-ce que les absences sont plus fréquentes chez un sexe particulier ?"
   ]
  },
  {
   "cell_type": "markdown",
   "metadata": {},
   "source": [
    "    - je calcule les proportions appropriées puis visualise le pourcentage des femmes absentes contre les femmes présentes puis de même pour les hommes."
   ]
  },
  {
   "cell_type": "code",
   "execution_count": 137,
   "metadata": {},
   "outputs": [],
   "source": [
    "sexe_counts, absent_sexe, present_sexe = proportion_calc(['absent','sexe'])"
   ]
  },
  {
   "cell_type": "code",
   "execution_count": 142,
   "metadata": {},
   "outputs": [
    {
     "data": {
      "image/png": "[encoded data removed]",
      "text/plain": [
       "<Figure size 432x288 with 1 Axes>"
      ]
     },
     "metadata": {},
     "output_type": "display_data"
    }
   ],
   "source": [
    "F_labels = 'Femmes absentes', 'Femmes présentes'\n",
    "sizes_F = [absent_sexe['F'],present_sexe['F']]\n",
    "\n",
    "fig, ax1 = plt.subplots()\n",
    "ax1.pie(sizes_F, labels=F_labels, autopct='%1.1f%%')\n",
    "\n",
    "plt.title(\"le pourcentage de présences et d'absences chez les femmes\",fontsize=15) \n",
    "plt.show()"
   ]
  },
  {
   "cell_type": "code",
   "execution_count": 143,
   "metadata": {},
   "outputs": [
    {
     "data": {
      "image/png": "[encoded data removed]",
      "text/plain": [
       "<Figure size 432x288 with 1 Axes>"
      ]
     },
     "metadata": {},
     "output_type": "display_data"
    }
   ],
   "source": [
    "M_labels = 'Hommes absents', 'Hommes présents'\n",
    "sizes_M = [absent_sexe['M'],present_sexe['M']]\n",
    " \n",
    "fig, ax2 = plt.subplots()\n",
    "ax2.pie(sizes_M, labels=M_labels, autopct='%1.1f%%')\n",
    "\n",
    "plt.title(\"le pourcentage de présences et d'absences chez les hommes\",fontsize=15) \n",
    "plt.show()"
   ]
  },
  {
   "cell_type": "markdown",
   "metadata": {},
   "source": [
    "    - On observe qu'il y a autant de présents que d'absents parmi les deux sexes."
   ]
  },
  {
   "cell_type": "markdown",
   "metadata": {},
   "source": [
    "### Est-ce que les bénéficiaires du programme Bolsa Familia s'absente plus ou moins que les non-bénéficiaires ?"
   ]
  },
  {
   "cell_type": "markdown",
   "metadata": {},
   "source": [
    "    - je calcule encore les proportions de chaque cas (bénéficiaire et non-bénéficiaires), parmi les absents puis les présents et je les visualise l'une contre l'autre avec des barres."
   ]
  },
  {
   "cell_type": "code",
   "execution_count": 139,
   "metadata": {},
   "outputs": [],
   "source": [
    "secu_social_counts, absent_secu_social, present_secu_social = proportion_calc(['absent','bolsa_familia'])"
   ]
  },
  {
   "cell_type": "code",
   "execution_count": 140,
   "metadata": {
    "scrolled": false
   },
   "outputs": [
    {
     "data": {
      "image/png": "[encoded data removed]",
      "text/plain": [
       "<Figure size 432x288 with 1 Axes>"
      ]
     },
     "metadata": {},
     "output_type": "display_data"
    }
   ],
   "source": [
    "plot_bar(absent_secu_social, #proportion1\n",
    "         present_secu_social, #proportion2\n",
    "         ['non_beneficiaire','beneficiaire'], #tick_labels\n",
    "         \"La proportion de présence/absence selon les beneficiaires et les non beneficiaires du programme Bolsa Familia\", #title\n",
    "         \"status vis-à-vis le programme\", #x_label\n",
    "         \"proportions\") #y_label"
   ]
  },
  {
   "cell_type": "markdown",
   "metadata": {},
   "source": [
    "    - On observe que la majorité des patients ne bénéficient pas du programme de sécurité sociale de Bolsa Familia. Parmi eux, il y a un peu plus de présences qu'il y en a chez les patients bénéficiaires du programme."
   ]
  },
  {
   "cell_type": "markdown",
   "metadata": {},
   "source": [
    "<a id='conclusions'></a>\n",
    "## Conclusions"
   ]
  },
  {
   "cell_type": "markdown",
   "metadata": {},
   "source": [
    "Cette étude est menée pour chercher et identifier des caractéristiques selon lesquelles on pourrait prédire le mieux le comportement des patients vis-à-vis leurs rendez-vous. Pour cela, plusieurs questions ont été abordé pour décortiquer le probleme. Chacune révèle le suivant :\n",
    "\n",
    "1. Est-ce que les patients absents pour leur rendez-vous ont reçu un rappel ?\n",
    "\n",
    "    la constatation inattendues est que parmis les patients qui ont reçu un rappel il y a plus d'absents. Parmi les patients qui n'ont pas reçu d'sms, on trouve encore ceux qui se sont montrés pour leurs rendez-vous.\n",
    "    Cela va même à l'encontre des fins de cette analyse. Y remédier dépasse le cadre de cette dernière et des études supplémentaires sont necessaires.\n",
    "    \n",
    "\n",
    "2. Est-ce que il y a une tranche d'age qui s'est absentée le plus à ses rendez-vous médical ?\n",
    "\n",
    "    Il y a une faible corrélation entre l'aĝe et les présences aux rendez-vous médical. Les patients agés de plus de 45 ans semblent se montrés plus que leurs homologues moins agés, avec la proportion de présence la plus basse enregistré chez les gens agés de 19-30 ans.\n",
    "    \n",
    "\n",
    "3. Est-ce que la durée entre la prise de rendez-vous et le rendez-vous favorise l'absence quand elle est longue ?\n",
    "\n",
    "    Contrairement aux attentes, aucune corrélation n'est à noter entre le nombre de jours qui sépare la date de prise du rendez-vous et la date de ce dernier.\n",
    "    \n",
    "\n",
    "4. Est-ce que certaines maladies caractéristiques sont plus communes chez les patients absents ?\n",
    "\n",
    "    Encore une fois, la corrélation est très faible. Toutefois, il est à noter que il y a un peu plus d'absences chez les patients déclarés sans maladies chroniques, et plus de présences chez les patients avec au moins une condition médicale.\n",
    "    Quant aux maladies elles-mêmes, aucune ne semble spécialement commune à une catégorie particulière de patients (absents ou présents).\n",
    "    \n",
    "\n",
    "5. Est-ce que les absences sont plus fréquentes chez un sexe particulier ?\n",
    "    \n",
    "    Aucune corrélation n'est à noter pour cette question, vu qu'il y a autant de présents que d'absents parmi les femmes et les hommes.\n",
    "    \n",
    "    \n",
    "6. Est-ce que les bénéficiaires du programme Bolsa Familia s'absente plus ou moins que les non-bénéficiaires ?\n",
    "\n",
    "    Parmi les bénéficiaires du programme de sécurité sociale de Bolsa Familia, les absences sont un peu plus marquées que les présences.\n",
    "    Parmi les non-bénéficiaires, il y a un peu plus de présence.\n",
    "    Cela suggère qu'il y a tendance à prendre moins au sérieux les rendez-vous médicaux chez les gens qui bénéficient du programme en question.\n",
    "    \n",
    "    \n",
    "\n",
    "Les corrélations établies , tout autant que l'absence de celles-là, ne permet pas de bien définir les facteurs à la base desquels on pourrait prédire l'absence d'un patient quelconque. Par conséquent, cette analyse établie que les données présentées ne sont pas suffisantes à cette fin.\n",
    "Loin d'être une analyse concluante, cette étude suggère toutefois de potentiels caractéristiques (parmi lesquels on a observé une légère corrélation en fonction de la présence des patients), en l'occurence : les sms de rappel, l'âge du patient, l'état de santé du patient,  et s'ils font partie d'un programme de sécurité sociale.\n",
    "\n",
    "### Limitations de l'analyse et études supplémentaires :\n",
    "\n",
    "Cette analyse est limitée de par le manque de certains détails importants observés dans les données :\n",
    "   - l'heure du rendez-vous n'est pas enregistrée\n",
    "   - la date et l'heure de l'sms de rappel ne sont pas enregistrés\n",
    "   - la cause du rendez-vous, et si c'est lié aux conditions enregistrées\n",
    "   - s'il s'agit d'une première consultation ou d'un suivi.\n",
    "Cela n'assurerait pas non plus une correlation instructive sur le comportement des patients vis-à-vis leurs rendez-vous. Pour cela, d'autres études sont envisageables pour mener à bien un tel projet, ci-dessous une suggestion pour ces dernières :\n",
    "   - une recolte de données et analyse des patients absents, pour comprendre et catégoriser les différentes causes des absences pour identifier un motif récurrent qui s'étend jusqu'à avant le rendez-vous et donnerait une meilleure chance à la prédiction."
   ]
  }
 ],
 "metadata": {
  "kernelspec": {
   "display_name": "Python 3 (ipykernel)",
   "language": "python",
   "name": "python3"
  },
  "language_info": {
   "codemirror_mode": {
    "name": "ipython",
    "version": 3
   },
   "file_extension": ".py",
   "mimetype": "text/x-python",
   "name": "python",
   "nbconvert_exporter": "python",
   "pygments_lexer": "ipython3",
   "version": "3.10.4"
  }
 },
 "nbformat": 4,
 "nbformat_minor": 2
}
