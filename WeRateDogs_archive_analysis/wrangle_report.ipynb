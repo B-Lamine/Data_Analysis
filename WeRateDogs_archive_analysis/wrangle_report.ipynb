{
 "cells": [
  {
   "cell_type": "markdown",
   "metadata": {},
   "source": [
    "## Collecte de données\n",
    "\n",
    "L'archive des tweets du compte WeRateDogs est récupérer directement d'un fichier csv. Les résultats des prédictions de l'algorithmes sont récupérer via un url contenant un fichier tsv. Quant aux nombre de retweets et de favoris, suite à l'impossibilité d'avoir accès à l'API de twitter, ont été récupérer d'un fichier txt de données sous forme Json fourni par Udacity.\n"
   ]
  },
  {
   "cell_type": "markdown",
   "metadata": {},
   "source": [
    "## Evaluation des données\n",
    "\n",
    "#### Tableau des tweets archivés (archive_df)\n",
    "\n",
    " Le taleau des tweets présente visuellement pas mal d'anomalies, en l'occurence le suivant :\n",
    "- des retweets et des répliques parmis les tweets originaux,\n",
    "- de faux noms, tels que \"a/an/the/quite\", et beaucoup de noms manquants,\n",
    "- dénominateurs différent de 10.\n",
    "Cette étape en soi oriente l'evaluation programmatique au fur et à mesure, menant à des evaluation directes de lignes particulières par moments.\n",
    "\n",
    " Cette étape est aussi influencé par le contexte des données; on s'attend entre autre, à titre d'exemple, à ce qu'il n y'ait pas de notes > 10 parce que \"They're good dogs, Brent\". Une verification avec les méthodes classiques d'évaluation (info(), describe(), duplicated()) que la colonne Timestamp n'est pas en type datetime.\n",
    " En zoomant davantage sur les données, en vérifiant entre autre si les données des colonnes noms et rating_numerator sont justes, relativement aux contenus des tweets, il est trouver que :\n",
    "- il y a de fausses notes,\n",
    "- certaines notes, en plus d'êtres fausses, sont des réelles (contrairement au type de la colonne associée).\n",
    "\n",
    " Les données présentent des problèmes de structure au niveau des colonnes des \"phases\" de chiens (doggo, floofer, pupper, puppo) qui sont une seule variable. Les colonnes des notes et de leurs dénominateurs sont aussi une seule variable. Et enfin, les nombres de favoris et de retweets, ainsi que les images et leurs prédictions sont séparés du tableau des tweets.\n",
    " \n",
    "#### Tableau des images (predictions_df)\n",
    " \n",
    " Les noms des colonnes de ce tableau sont peu compréhensibles à première vue. Quant aux données elles-mêmes, elles ne sont pas toutes sur des images de chiens et ne correspondent pas toutes à des tweets non plus.\n",
    " \n",
    "#### Tableau des nombres de favoris et de retweets (api_df)\n",
    " \n",
    "  Visuellement, ce tableau ne présente aucune anomalie à part le nom mal de la colonne des id des tweets. De plus prés, il s'avère que toutes les colonnes, qui contiennent des entiers, sont de type chaine de caractères; et que certaines données ne correspondent pas à des tweets.\n",
    "  "
   ]
  },
  {
   "cell_type": "markdown",
   "metadata": {},
   "source": [
    "## Nettoyage des données\n",
    "\n",
    " Les données qui ne sont pas d'intérêt pour cette analyse sont supprimées, comme les retweets, les répliques, les tweets sans images ou nombre de favoris et de retweets ou encore les images qui ne sont pas de chiens. Les colonnes de mauvais types sont converties adéquatement et les fausses données (comme certaines notes et noms) et données manquantes sont extraites des contenus textuels des tweets.\n",
    " \n",
    " Pour le cas des denominateurs différents de 10, les notes associés sont reconverties en notes sur 10 pour un tableau plus consistant.\n",
    " \n",
    " Enfin, les colonnes de phases sont fusionner en une seule variable, et le tableau des nombre de favoris et de retweets est joint au tableau des tweets."
   ]
  }
 ],
 "metadata": {
  "kernelspec": {
   "display_name": "Python 3",
   "language": "python",
   "name": "python3"
  },
  "language_info": {
   "codemirror_mode": {
    "name": "ipython",
    "version": 3
   },
   "file_extension": ".py",
   "mimetype": "text/x-python",
   "name": "python",
   "nbconvert_exporter": "python",
   "pygments_lexer": "ipython3",
   "version": "3.6.3"
  }
 },
 "nbformat": 4,
 "nbformat_minor": 2
}
